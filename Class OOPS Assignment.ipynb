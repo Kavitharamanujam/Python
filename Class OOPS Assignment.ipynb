{
 "cells": [
  {
   "cell_type": "code",
   "execution_count": 14,
   "id": "eca29a31",
   "metadata": {},
   "outputs": [],
   "source": [
    "class SubfieldsinAI():\n",
    "    def SubfieldsinAIare():\n",
    "        name=input(\"Subfields in AI are:\")\n",
    "        A=\"Machine learning\"\n",
    "        B= \"Neural networks\"\n",
    "        C= \"Vision\"\n",
    "        D= \"Robotics\"\n",
    "        E= \"Speech processing\"\n",
    "        F= \"Natural language processing\"\n",
    "        List=[A,B,C,D,E,F]\n",
    "        for Course in List:\n",
    "            print(Course)\n",
    "        "
   ]
  },
  {
   "cell_type": "code",
   "execution_count": 15,
   "id": "d03fe790",
   "metadata": {},
   "outputs": [
    {
     "name": "stdout",
     "output_type": "stream",
     "text": [
      "Subfields in AI are:S\n",
      "Machine learning\n",
      "Neural networks\n",
      "Vision\n",
      "Robotics\n",
      "Speech processing\n",
      "Natural language processing\n"
     ]
    }
   ],
   "source": [
    "SubfieldsinAI.SubfieldsinAIare()"
   ]
  },
  {
   "cell_type": "code",
   "execution_count": 16,
   "id": "bbc9b311",
   "metadata": {},
   "outputs": [],
   "source": [
    "class oddeven():\n",
    "    def oddeven():\n",
    "        num=int(input(\"ENTER THE NUMBER:\"))\n",
    "        if ((num%2)==1):\n",
    "            print(\"Odd number\")\n",
    "            message=\"odd number\"\n",
    "        else:\n",
    "            print(\"Even number\")\n",
    "            message=\"Even number\"\n",
    "        return message"
   ]
  },
  {
   "cell_type": "code",
   "execution_count": 18,
   "id": "ecd0fd24",
   "metadata": {},
   "outputs": [
    {
     "name": "stdout",
     "output_type": "stream",
     "text": [
      "ENTER THE NUMBER:52452\n",
      "Even number\n"
     ]
    },
    {
     "data": {
      "text/plain": [
       "'Even number'"
      ]
     },
     "execution_count": 18,
     "metadata": {},
     "output_type": "execute_result"
    }
   ],
   "source": [
    "oddeven.oddeven()"
   ]
  },
  {
   "cell_type": "code",
   "execution_count": 24,
   "id": "97af8fb2",
   "metadata": {},
   "outputs": [],
   "source": [
    "class eligibilityformarriage():\n",
    "    def Eligibilityformarriage():\n",
    "        gender=input(\"Your Gender:\")\n",
    "        age=int(input(\"Your Age:\"))\n",
    "        if (gender.lower() in (\"female\")):\n",
    "            if (age>=18 and gender=='female'):\n",
    "                print(\"eligible\")\n",
    "            else:\n",
    "                print(\"ineligible\")\n",
    "\n",
    "        elif(gender.lower() in(\"male\")):\n",
    "            if (age>=21 and gender==male):\n",
    "                print(\"eligible\")\n",
    "            else:\n",
    "                print(\"ineligible\")"
   ]
  },
  {
   "cell_type": "code",
   "execution_count": 25,
   "id": "1e41eb65",
   "metadata": {},
   "outputs": [
    {
     "name": "stdout",
     "output_type": "stream",
     "text": [
      "Your Gender:Male\n",
      "Your Age:20\n",
      "ineligible\n"
     ]
    }
   ],
   "source": [
    "eligibilityformarriage.Eligibilityformarriage()"
   ]
  },
  {
   "cell_type": "code",
   "execution_count": 27,
   "id": "da2417f0",
   "metadata": {},
   "outputs": [],
   "source": [
    "class findpercent():\n",
    "    def Findpercentage():\n",
    "        Mark1=int(input(\"Subject1:\"))\n",
    "        Mark2=int(input(\"Subject2:\"))\n",
    "        Mark3=int(input(\"Subject3:\")) \n",
    "        Mark4=int(input(\"Subject4:\")) \n",
    "        Mark5=int(input(\"Subject5:\")) \n",
    "        Total=Mark1+Mark2+Mark3+Mark4+Mark5\n",
    "        print(\"Total:\",Total)\n",
    "        Percentage=Total/5\n",
    "        print(\"Percentage:\",Percentage,\"%\")"
   ]
  },
  {
   "cell_type": "code",
   "execution_count": 28,
   "id": "b933ef56",
   "metadata": {},
   "outputs": [
    {
     "name": "stdout",
     "output_type": "stream",
     "text": [
      "Subject1:98\n",
      "Subject2:87\n",
      "Subject3:95\n",
      "Subject4:95\n",
      "Subject5:93\n",
      "Total: 468\n",
      "Percentage: 93.6 %\n"
     ]
    }
   ],
   "source": [
    "findpercent.Findpercentage()"
   ]
  },
  {
   "cell_type": "code",
   "execution_count": 30,
   "id": "8c932b58",
   "metadata": {},
   "outputs": [],
   "source": [
    "class triangle():\n",
    "     def triangle():\n",
    "        Height=int(input(\"Height:\"))\n",
    "        Breadth=int(input(\"Breadth:\"))\n",
    "        Areaformula=(Height*Breadth)/2\n",
    "        print(\"Areaformula:\", Areaformula)\n",
    "        Height1=int(input(\"Height1:\"))\n",
    "        Height2=int(input(\"Height2:\"))\n",
    "        Breadth1=int(input(\"Breadth1:\"))\n",
    "        Perimeterformula=Height1+Height2+Breadth1\n",
    "        print(\"Perimeterformula:\", Perimeterformula)\n"
   ]
  },
  {
   "cell_type": "code",
   "execution_count": 32,
   "id": "3f694319",
   "metadata": {},
   "outputs": [
    {
     "name": "stdout",
     "output_type": "stream",
     "text": [
      "Height:32\n",
      "Breadth:34\n",
      "Areaformula: 544.0\n",
      "Height1:2\n",
      "Height2:4\n",
      "Breadth1:4\n",
      "Perimeterformula: 10\n"
     ]
    }
   ],
   "source": [
    "triangle.triangle()"
   ]
  },
  {
   "cell_type": "code",
   "execution_count": null,
   "id": "d1d2dfb8",
   "metadata": {},
   "outputs": [],
   "source": []
  }
 ],
 "metadata": {
  "kernelspec": {
   "display_name": "Python 3 (ipykernel)",
   "language": "python",
   "name": "python3"
  },
  "language_info": {
   "codemirror_mode": {
    "name": "ipython",
    "version": 3
   },
   "file_extension": ".py",
   "mimetype": "text/x-python",
   "name": "python",
   "nbconvert_exporter": "python",
   "pygments_lexer": "ipython3",
   "version": "3.11.5"
  }
 },
 "nbformat": 4,
 "nbformat_minor": 5
}
