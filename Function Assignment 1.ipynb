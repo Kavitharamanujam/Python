{
 "cells": [
  {
   "cell_type": "code",
   "execution_count": 40,
   "id": "800bd03c",
   "metadata": {},
   "outputs": [],
   "source": [
    "def SubfieldsinAIare():\n",
    "    name=input(\"Subfields in AI are:\")\n",
    "    A=\"Machine learning\"\n",
    "    B= \"Neural networks\"\n",
    "    C= \"Vision\"\n",
    "    D= \"Robotics\"\n",
    "    E= \"Speech processing\"\n",
    "    F= \"Natural language processing\"\n",
    "    List=[A,B,C,D,E,F]\n",
    "    for Course in List:\n",
    "        print(Course)\n",
    "    "
   ]
  },
  {
   "cell_type": "code",
   "execution_count": 41,
   "id": "14899e78",
   "metadata": {},
   "outputs": [
    {
     "name": "stdout",
     "output_type": "stream",
     "text": [
      "Subfields in AI are:'\n",
      "Machine learning\n",
      "Neural networks\n",
      "Vision\n",
      "Robotics\n",
      "Speech processing\n",
      "Natural language processing\n"
     ]
    }
   ],
   "source": [
    "SubfieldsinAIare()\n"
   ]
  },
  {
   "cell_type": "code",
   "execution_count": 35,
   "id": "7b70099a",
   "metadata": {},
   "outputs": [],
   "source": [
    "def oddeven():\n",
    "    num=int(input(\"ENTER THE NUMBER:\"))\n",
    "    if ((num%2)==1):\n",
    "        print(\"Odd number\")\n",
    "        message=\"odd number\"\n",
    "    else:\n",
    "        print(\"Even number\")\n",
    "        message=\"Even number\"\n",
    "    return message"
   ]
  },
  {
   "cell_type": "code",
   "execution_count": 7,
   "id": "40dbe747",
   "metadata": {},
   "outputs": [
    {
     "name": "stdout",
     "output_type": "stream",
     "text": [
      "ENTER THE NUMBER:52452\n",
      "Even number\n"
     ]
    }
   ],
   "source": [
    "message=oddeven()"
   ]
  },
  {
   "cell_type": "code",
   "execution_count": null,
   "id": "d4fd49e7",
   "metadata": {},
   "outputs": [],
   "source": [
    "\n",
    "            "
   ]
  },
  {
   "cell_type": "code",
   "execution_count": 4,
   "id": "e203375d",
   "metadata": {},
   "outputs": [],
   "source": [
    "\n",
    "def Eligibilityformarriage():\n",
    "    gender=input(\"Your Gender:\")\n",
    "    age=int(input(\"Your Age:\"))\n",
    "    if (gender.lower() in (\"female\")):\n",
    "        if (age>=18 and gender=='female'):\n",
    "            print(\"eligible\")\n",
    "        else:\n",
    "            print(\"ineligible\")\n",
    "                  \n",
    "    elif(gender.lower() in(\"male\")):\n",
    "        if (age>=21 and gender==male):\n",
    "            print(\"eligible\")\n",
    "        else:\n",
    "            print(\"ineligible\")\n",
    "            \n",
    "        "
   ]
  },
  {
   "cell_type": "code",
   "execution_count": 6,
   "id": "4e3ebb00",
   "metadata": {},
   "outputs": [
    {
     "name": "stdout",
     "output_type": "stream",
     "text": [
      "Your Gender:male\n",
      "Your Age:20\n",
      "ineligible\n"
     ]
    }
   ],
   "source": [
    "\n",
    " Eligibilityformarriage()"
   ]
  },
  {
   "cell_type": "code",
   "execution_count": 3,
   "id": "f8b12b29",
   "metadata": {},
   "outputs": [],
   "source": [
    "def Findpercentage():\n",
    "    Mark1=int(input(\"Subject1:\"))\n",
    "    Mark2=int(input(\"Subject2:\"))\n",
    "    Mark3=int(input(\"Subject3:\")) \n",
    "    Mark4=int(input(\"Subject4:\")) \n",
    "    Mark5=int(input(\"Subject5:\")) \n",
    "    Total=Mark1+Mark2+Mark3+Mark4+Mark5\n",
    "    print(\"Total:\",Total)\n",
    "    Percentage=Total/5\n",
    "    print(\"Percentage:\",Percentage,\"%\")"
   ]
  },
  {
   "cell_type": "code",
   "execution_count": 4,
   "id": "0b56f9cd",
   "metadata": {},
   "outputs": [
    {
     "name": "stdout",
     "output_type": "stream",
     "text": [
      "Subject1:98\n",
      "Subject2:95\n",
      "Subject3:94\n",
      "Subject4:99\n",
      "Subject5:100\n",
      "Total: 486\n",
      "Percentage: 97.2 %\n"
     ]
    }
   ],
   "source": [
    "Findpercentage()"
   ]
  },
  {
   "cell_type": "code",
   "execution_count": 17,
   "id": "94a5a61c",
   "metadata": {},
   "outputs": [],
   "source": [
    "def triangle():\n",
    "    Height=int(input(\"Height:\"))\n",
    "    Breadth=int(input(\"Breadth:\"))\n",
    "    Areaformula=(Height*Breadth)/2\n",
    "    print(\"Areaformula:\", Areaformula)\n",
    "    Height1=int(input(\"Height1:\"))\n",
    "    Height2=int(input(\"Height2:\"))\n",
    "    Breadth1=int(input(\"Breadth1:\"))\n",
    "    Perimeterformula=Height1+Height2+Breadth1\n",
    "    print(\"Perimeterformula:\", Perimeterformula)\n",
    "    \n",
    "                     "
   ]
  },
  {
   "cell_type": "code",
   "execution_count": 19,
   "id": "99495890",
   "metadata": {},
   "outputs": [
    {
     "name": "stdout",
     "output_type": "stream",
     "text": [
      "Height:32\n",
      "Breadth:34\n",
      "Areaformula: 544.0\n",
      "Height1:2\n",
      "Height2:4\n",
      "Breadth1:2\n",
      "Perimeterformula: 8\n"
     ]
    }
   ],
   "source": [
    "triangle()\n"
   ]
  },
  {
   "cell_type": "code",
   "execution_count": null,
   "id": "73662ee6",
   "metadata": {},
   "outputs": [],
   "source": []
  }
 ],
 "metadata": {
  "kernelspec": {
   "display_name": "Python 3 (ipykernel)",
   "language": "python",
   "name": "python3"
  },
  "language_info": {
   "codemirror_mode": {
    "name": "ipython",
    "version": 3
   },
   "file_extension": ".py",
   "mimetype": "text/x-python",
   "name": "python",
   "nbconvert_exporter": "python",
   "pygments_lexer": "ipython3",
   "version": "3.11.5"
  }
 },
 "nbformat": 4,
 "nbformat_minor": 5
}
